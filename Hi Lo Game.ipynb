{
 "cells": [
  {
   "cell_type": "markdown",
   "metadata": {},
   "source": [
    "# Hi Lo Game"
   ]
  },
  {
   "cell_type": "code",
   "execution_count": null,
   "metadata": {},
   "outputs": [
    {
     "name": "stdout",
     "output_type": "stream",
     "text": [
      "Enter a number between 1 and 1000\n",
      "Press ENTER to start \n"
     ]
    }
   ],
   "source": [
    "low=1 #lower limit\n",
    "high=1000 #upper limit\n",
    "\n",
    "print(\"Enter a number between {} and {}\".format(low,high))\n",
    "input(\"Press ENTER to start \") #Entering the enter key to start the game.\n",
    "\n",
    "guesses=1 #Counts the number of guesses\n",
    "while True: #Starting infinite loop\n",
    "    guess=low+(high-low)//2\n",
    "    high_low=input(\"My guess is {}. Should I guess higher or lower? Enter h or l or c if answer is correct \".format(guess)).casefold()\n",
    "    if high_low=='h':\n",
    "        # Guess higher. The low end of the range becomes 1 greater than the guess.\n",
    "        low=guess+1\n",
    "    elif high_low=='l':\n",
    "        # Guess lower. The high end of the range becomes 1 less than the guess.\n",
    "        high=guess-1\n",
    "    elif high_low=='c':\n",
    "        print(\"I got it correct in {} guesses\".format(guesses))\n",
    "        break\n",
    "    else:\n",
    "        print(\"Please enter h, l or c\")\n",
    "        \n",
    "    guesses=guesses+1"
   ]
  }
 ],
 "metadata": {
  "kernelspec": {
   "display_name": "Python 3",
   "language": "python",
   "name": "python3"
  },
  "language_info": {
   "codemirror_mode": {
    "name": "ipython",
    "version": 3
   },
   "file_extension": ".py",
   "mimetype": "text/x-python",
   "name": "python",
   "nbconvert_exporter": "python",
   "pygments_lexer": "ipython3",
   "version": "3.7.6"
  }
 },
 "nbformat": 4,
 "nbformat_minor": 4
}
